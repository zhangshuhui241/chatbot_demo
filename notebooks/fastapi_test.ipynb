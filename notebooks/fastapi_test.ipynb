{
 "cells": [
  {
   "cell_type": "code",
   "execution_count": 1,
   "id": "61a45a02-03ff-4138-97ef-840dfd83fcd2",
   "metadata": {},
   "outputs": [
    {
     "ename": "ModuleNotFoundError",
     "evalue": "No module named 'apps'",
     "output_type": "error",
     "traceback": [
      "\u001b[1;31m---------------------------------------------------------------------------\u001b[0m",
      "\u001b[1;31mModuleNotFoundError\u001b[0m                       Traceback (most recent call last)",
      "Cell \u001b[1;32mIn[1], line 3\u001b[0m\n\u001b[0;32m      1\u001b[0m \u001b[38;5;28;01mimport\u001b[39;00m \u001b[38;5;21;01muvicorn\u001b[39;00m\n\u001b[0;32m      2\u001b[0m \u001b[38;5;28;01mfrom\u001b[39;00m \u001b[38;5;21;01mfastapi\u001b[39;00m \u001b[38;5;28;01mimport\u001b[39;00m FastAPI\n\u001b[1;32m----> 3\u001b[0m \u001b[38;5;28;01mfrom\u001b[39;00m \u001b[38;5;21;01mapps\u001b[39;00m \u001b[38;5;28;01mimport\u001b[39;00m app01, app02\n",
      "\u001b[1;31mModuleNotFoundError\u001b[0m: No module named 'apps'"
     ]
    }
   ],
   "source": [
    "import uvicorn\n",
    "from fastapi import FastAPI\n",
    "from apps import app01, app02"
   ]
  },
  {
   "cell_type": "code",
   "execution_count": 4,
   "id": "55d1ec30-abda-4fbf-86cf-9f2d5d2697e2",
   "metadata": {},
   "outputs": [],
   "source": [
    "app = FastAPI()\n",
    "\n",
    "app.include_router(app01, prefix=\"/app01\",tags=[\"第一章节：商城接口\"])\n",
    "app.include_router(app01, prefix=\"/app02\",tags=[\"第二章节：用户中心接口\"])\n",
    "\n",
    "@app.get(\"/\")\n",
    "async def home():\n",
    "    return {\"user_id\": 1001}\n",
    "\n",
    "@app.get(\"/items\",\n",
    "        tags = ['这是items测试接口'],\n",
    "        description=\"这是对接口本身的详细描述\",\n",
    "        response_description=\"这里写对响应信息的详细描述\",\n",
    "        deprecated=False)\n",
    "async def shop():\n",
    "    return {\"shop\": \"...\"}"
   ]
  },
  {
   "cell_type": "code",
   "execution_count": null,
   "id": "6f3a9bc4-d73f-44f6-b164-b45dbfbac894",
   "metadata": {},
   "outputs": [
    {
     "name": "stderr",
     "output_type": "stream",
     "text": [
      "INFO:     Will watch for changes in these directories: ['C:\\\\Users\\\\Administrator\\\\machine_learning\\\\chatbot_demo\\\\src']\n",
      "INFO:     Uvicorn running on http://127.0.0.1:8080 (Press CTRL+C to quit)\n",
      "INFO:     Started reloader process [19700] using StatReload\n"
     ]
    }
   ],
   "source": [
    "if __name__ == \"__main__\":\n",
    "    uvicorn.run('fastapi_test:app', port=8080, reload=True)"
   ]
  },
  {
   "cell_type": "code",
   "execution_count": null,
   "id": "1f201ff6-c7be-45a9-aa08-e207e22fc3db",
   "metadata": {},
   "outputs": [],
   "source": []
  }
 ],
 "metadata": {
  "kernelspec": {
   "display_name": "llm",
   "language": "python",
   "name": "llm"
  },
  "language_info": {
   "codemirror_mode": {
    "name": "ipython",
    "version": 3
   },
   "file_extension": ".py",
   "mimetype": "text/x-python",
   "name": "python",
   "nbconvert_exporter": "python",
   "pygments_lexer": "ipython3",
   "version": "3.9.18"
  }
 },
 "nbformat": 4,
 "nbformat_minor": 5
}
